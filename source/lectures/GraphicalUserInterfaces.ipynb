{
 "cells": [
  {
   "cell_type": "markdown",
   "metadata": {
    "slideshow": {
     "slide_type": "slide"
    }
   },
   "source": [
    "# Graphical User Interfaces\n",
    "\n",
    "Three-part introduction to basic GUIs using PyQt5"
   ]
  },
  {
   "cell_type": "markdown",
   "metadata": {
    "slideshow": {
     "slide_type": "subslide"
    }
   },
   "source": [
    "## Objectives\n",
    "  - Understand the basics of GUIs\n",
    "  - Be aware of different GUI toolkits\n",
    "  - Use PyQt to create a simple GUI application"
   ]
  },
  {
   "cell_type": "markdown",
   "metadata": {
    "slideshow": {
     "slide_type": "subslide"
    }
   },
   "source": [
    "## Keywords\n",
    "\n",
    "  -  infinite loop\n",
    "  -  event loop\n",
    "  - `PyQt5`\n",
    "  - `PyQt5.QtWidgets`\n",
    "  - `QApplication`\n",
    "  - `QLabel`\n",
    "  - slot\n",
    "  - signal\n",
    "  - `QPushButton`\n",
    "  - `QMessageBox`\n",
    "  - `QLineEdit`\n",
    "  - `QVBoxLayout`"
   ]
  },
  {
   "cell_type": "markdown",
   "metadata": {
    "slideshow": {
     "slide_type": "subslide"
    }
   },
   "source": [
    "## References\n",
    "\n",
    "  - M. Summerfield, *Rapid GUI Programming with Python and Qt* (somewhat outdated given its use of PyQt4)\n",
    "  - http://zetcode.com/gui/pyqt5/  (excellent site)\n",
    "  - www.qt.io"
   ]
  },
  {
   "cell_type": "markdown",
   "metadata": {
    "slideshow": {
     "slide_type": "subslide"
    }
   },
   "source": [
    "# To GUI of Not?\n",
    "\n",
    "Generally,\n",
    "- GUIs make easy things easier\n",
    "- Scripting makes hard things easier\n",
    "\n",
    "GUIs are good for\n",
    "- Self-contained problems with reasonably small, very well-defined inputs\n",
    "- Hands-on visualization (think SolidWorks; can often be scripted, though!)"
   ]
  },
  {
   "cell_type": "markdown",
   "metadata": {
    "slideshow": {
     "slide_type": "subslide"
    }
   },
   "source": [
    "## (G)UIs vs Traditional (\"Batch\") Programs\n",
    "\n"
   ]
  },
  {
   "cell_type": "markdown",
   "metadata": {
    "slideshow": {
     "slide_type": "slide"
    }
   },
   "source": [
    "## Dive into PyQt\n",
    "\n",
    "By default, a complete Anaconda installation has `PyQt5` (it actually drives Spyder!).  "
   ]
  },
  {
   "cell_type": "code",
   "execution_count": 2,
   "metadata": {
    "slideshow": {
     "slide_type": "fragment"
    }
   },
   "outputs": [
    {
     "data": {
      "text/plain": [
       "['__builtins__',\n",
       " '__cached__',\n",
       " '__doc__',\n",
       " '__file__',\n",
       " '__loader__',\n",
       " '__name__',\n",
       " '__package__',\n",
       " '__path__',\n",
       " '__spec__']"
      ]
     },
     "execution_count": 2,
     "metadata": {},
     "output_type": "execute_result"
    }
   ],
   "source": [
    "import PyQt5\n",
    "dir(PyQt5)"
   ]
  },
  {
   "cell_type": "code",
   "execution_count": 3,
   "metadata": {
    "slideshow": {
     "slide_type": "subslide"
    }
   },
   "outputs": [
    {
     "data": {
      "text/plain": [
       "['QtCore',\n",
       " 'QtGui',\n",
       " 'QtWidgets',\n",
       " '__builtins__',\n",
       " '__cached__',\n",
       " '__doc__',\n",
       " '__file__',\n",
       " '__loader__',\n",
       " '__name__',\n",
       " '__package__',\n",
       " '__path__',\n",
       " '__spec__']"
      ]
     },
     "execution_count": 3,
     "metadata": {},
     "output_type": "execute_result"
    }
   ],
   "source": [
    "import PyQt5.QtWidgets\n",
    "dir(PyQt5)"
   ]
  },
  {
   "cell_type": "code",
   "execution_count": 5,
   "metadata": {
    "slideshow": {
     "slide_type": "subslide"
    }
   },
   "outputs": [
    {
     "data": {
      "text/plain": [
       "['QAbstractButton',\n",
       " 'QAbstractGraphicsShapeItem',\n",
       " 'QAbstractItemDelegate',\n",
       " 'QAbstractItemView',\n",
       " 'QAbstractScrollArea',\n",
       " 'QAbstractSlider',\n",
       " 'QAbstractSpinBox',\n",
       " 'QAction',\n",
       " 'QActionGroup',\n",
       " 'QApplication',\n",
       " 'QBoxLayout',\n",
       " 'QButtonGroup',\n",
       " 'QCalendarWidget',\n",
       " 'QCheckBox',\n",
       " 'QColorDialog',\n",
       " 'QColumnView',\n",
       " 'QComboBox',\n",
       " 'QCommandLinkButton',\n",
       " 'QCommonStyle',\n",
       " 'QCompleter',\n",
       " 'QDataWidgetMapper',\n",
       " 'QDateEdit',\n",
       " 'QDateTimeEdit',\n",
       " 'QDesktopWidget',\n",
       " 'QDial',\n",
       " 'QDialog',\n",
       " 'QDialogButtonBox',\n",
       " 'QDirModel',\n",
       " 'QDockWidget',\n",
       " 'QDoubleSpinBox',\n",
       " 'QErrorMessage',\n",
       " 'QFileDialog',\n",
       " 'QFileIconProvider',\n",
       " 'QFileSystemModel',\n",
       " 'QFocusFrame',\n",
       " 'QFontComboBox',\n",
       " 'QFontDialog',\n",
       " 'QFormLayout',\n",
       " 'QFrame',\n",
       " 'QGesture',\n",
       " 'QGestureEvent',\n",
       " 'QGestureRecognizer',\n",
       " 'QGraphicsAnchor',\n",
       " 'QGraphicsAnchorLayout',\n",
       " 'QGraphicsBlurEffect',\n",
       " 'QGraphicsColorizeEffect',\n",
       " 'QGraphicsDropShadowEffect',\n",
       " 'QGraphicsEffect',\n",
       " 'QGraphicsEllipseItem',\n",
       " 'QGraphicsGridLayout',\n",
       " 'QGraphicsItem',\n",
       " 'QGraphicsItemGroup',\n",
       " 'QGraphicsLayout',\n",
       " 'QGraphicsLayoutItem',\n",
       " 'QGraphicsLineItem',\n",
       " 'QGraphicsLinearLayout',\n",
       " 'QGraphicsObject',\n",
       " 'QGraphicsOpacityEffect',\n",
       " 'QGraphicsPathItem',\n",
       " 'QGraphicsPixmapItem',\n",
       " 'QGraphicsPolygonItem',\n",
       " 'QGraphicsProxyWidget',\n",
       " 'QGraphicsRectItem',\n",
       " 'QGraphicsRotation',\n",
       " 'QGraphicsScale',\n",
       " 'QGraphicsScene',\n",
       " 'QGraphicsSceneContextMenuEvent',\n",
       " 'QGraphicsSceneDragDropEvent',\n",
       " 'QGraphicsSceneEvent',\n",
       " 'QGraphicsSceneHelpEvent',\n",
       " 'QGraphicsSceneHoverEvent',\n",
       " 'QGraphicsSceneMouseEvent',\n",
       " 'QGraphicsSceneMoveEvent',\n",
       " 'QGraphicsSceneResizeEvent',\n",
       " 'QGraphicsSceneWheelEvent',\n",
       " 'QGraphicsSimpleTextItem',\n",
       " 'QGraphicsTextItem',\n",
       " 'QGraphicsTransform',\n",
       " 'QGraphicsView',\n",
       " 'QGraphicsWidget',\n",
       " 'QGridLayout',\n",
       " 'QGroupBox',\n",
       " 'QHBoxLayout',\n",
       " 'QHeaderView',\n",
       " 'QInputDialog',\n",
       " 'QItemDelegate',\n",
       " 'QItemEditorCreatorBase',\n",
       " 'QItemEditorFactory',\n",
       " 'QKeyEventTransition',\n",
       " 'QKeySequenceEdit',\n",
       " 'QLCDNumber',\n",
       " 'QLabel',\n",
       " 'QLayout',\n",
       " 'QLayoutItem',\n",
       " 'QLineEdit',\n",
       " 'QListView',\n",
       " 'QListWidget',\n",
       " 'QListWidgetItem',\n",
       " 'QMainWindow',\n",
       " 'QMdiArea',\n",
       " 'QMdiSubWindow',\n",
       " 'QMenu',\n",
       " 'QMenuBar',\n",
       " 'QMessageBox',\n",
       " 'QMouseEventTransition',\n",
       " 'QOpenGLWidget',\n",
       " 'QPanGesture',\n",
       " 'QPinchGesture',\n",
       " 'QPlainTextDocumentLayout',\n",
       " 'QPlainTextEdit',\n",
       " 'QProgressBar',\n",
       " 'QProgressDialog',\n",
       " 'QProxyStyle',\n",
       " 'QPushButton',\n",
       " 'QRadioButton',\n",
       " 'QRubberBand',\n",
       " 'QScrollArea',\n",
       " 'QScrollBar',\n",
       " 'QScroller',\n",
       " 'QScrollerProperties',\n",
       " 'QShortcut',\n",
       " 'QSizeGrip',\n",
       " 'QSizePolicy',\n",
       " 'QSlider',\n",
       " 'QSpacerItem',\n",
       " 'QSpinBox',\n",
       " 'QSplashScreen',\n",
       " 'QSplitter',\n",
       " 'QSplitterHandle',\n",
       " 'QStackedLayout',\n",
       " 'QStackedWidget',\n",
       " 'QStatusBar',\n",
       " 'QStyle',\n",
       " 'QStyleFactory',\n",
       " 'QStyleHintReturn',\n",
       " 'QStyleHintReturnMask',\n",
       " 'QStyleHintReturnVariant',\n",
       " 'QStyleOption',\n",
       " 'QStyleOptionButton',\n",
       " 'QStyleOptionComboBox',\n",
       " 'QStyleOptionComplex',\n",
       " 'QStyleOptionDockWidget',\n",
       " 'QStyleOptionFocusRect',\n",
       " 'QStyleOptionFrame',\n",
       " 'QStyleOptionGraphicsItem',\n",
       " 'QStyleOptionGroupBox',\n",
       " 'QStyleOptionHeader',\n",
       " 'QStyleOptionMenuItem',\n",
       " 'QStyleOptionProgressBar',\n",
       " 'QStyleOptionRubberBand',\n",
       " 'QStyleOptionSizeGrip',\n",
       " 'QStyleOptionSlider',\n",
       " 'QStyleOptionSpinBox',\n",
       " 'QStyleOptionTab',\n",
       " 'QStyleOptionTabBarBase',\n",
       " 'QStyleOptionTabWidgetFrame',\n",
       " 'QStyleOptionTitleBar',\n",
       " 'QStyleOptionToolBar',\n",
       " 'QStyleOptionToolBox',\n",
       " 'QStyleOptionToolButton',\n",
       " 'QStyleOptionViewItem',\n",
       " 'QStylePainter',\n",
       " 'QStyledItemDelegate',\n",
       " 'QSwipeGesture',\n",
       " 'QSystemTrayIcon',\n",
       " 'QTabBar',\n",
       " 'QTabWidget',\n",
       " 'QTableView',\n",
       " 'QTableWidget',\n",
       " 'QTableWidgetItem',\n",
       " 'QTableWidgetSelectionRange',\n",
       " 'QTapAndHoldGesture',\n",
       " 'QTapGesture',\n",
       " 'QTextBrowser',\n",
       " 'QTextEdit',\n",
       " 'QTimeEdit',\n",
       " 'QToolBar',\n",
       " 'QToolBox',\n",
       " 'QToolButton',\n",
       " 'QToolTip',\n",
       " 'QTreeView',\n",
       " 'QTreeWidget',\n",
       " 'QTreeWidgetItem',\n",
       " 'QTreeWidgetItemIterator',\n",
       " 'QUndoCommand',\n",
       " 'QUndoGroup',\n",
       " 'QUndoStack',\n",
       " 'QUndoView',\n",
       " 'QVBoxLayout',\n",
       " 'QWIDGETSIZE_MAX',\n",
       " 'QWhatsThis',\n",
       " 'QWidget',\n",
       " 'QWidgetAction',\n",
       " 'QWidgetItem',\n",
       " 'QWizard',\n",
       " 'QWizardPage',\n",
       " '__doc__',\n",
       " '__file__',\n",
       " '__loader__',\n",
       " '__name__',\n",
       " '__package__',\n",
       " '__spec__',\n",
       " 'qApp',\n",
       " 'qDrawBorderPixmap',\n",
       " 'qDrawPlainRect',\n",
       " 'qDrawShadeLine',\n",
       " 'qDrawShadePanel',\n",
       " 'qDrawShadeRect',\n",
       " 'qDrawWinButton',\n",
       " 'qDrawWinPanel']"
      ]
     },
     "execution_count": 5,
     "metadata": {},
     "output_type": "execute_result"
    }
   ],
   "source": [
    "dir(PyQt5.QtWidgets)"
   ]
  },
  {
   "cell_type": "markdown",
   "metadata": {
    "collapsed": true,
    "slideshow": {
     "slide_type": "slide"
    }
   },
   "source": [
    "## Adding layouts\n",
    "\n",
    "http://doc.qt.io/qt-5/layout.html"
   ]
  }
 ],
 "metadata": {
  "celltoolbar": "Slideshow",
  "kernelspec": {
   "display_name": "Python 3",
   "language": "python",
   "name": "python3"
  },
  "language_info": {
   "codemirror_mode": {
    "name": "ipython",
    "version": 3
   },
   "file_extension": ".py",
   "mimetype": "text/x-python",
   "name": "python",
   "nbconvert_exporter": "python",
   "pygments_lexer": "ipython3",
   "version": "3.6.1"
  }
 },
 "nbformat": 4,
 "nbformat_minor": 2
}
